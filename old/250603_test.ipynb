{
  "cells": [
    {
      "cell_type": "markdown",
      "metadata": {},
      "source": [
        "## 250603 테스트\n",
        "\n",
        "* 정의된 함수 옮기기\n",
        "* 정의된 클래스 옮기기\n",
        "* hcx-005 모델 테스트\n",
        "\n",
        "- time_filter 함수에서 문제 발생\n",
        "- 날짜 관련 수식 적용이 OpenAI와 다르게 움직이므로, 해당 부분 디버깅 필요"
      ]
    },
    {
      "cell_type": "code",
      "execution_count": 1,
      "metadata": {
        "id": "6GUHybGwnsPh"
      },
      "outputs": [],
      "source": [
        "import os\n",
        "import re\n",
        "import json\n",
        "import jsonlines\n",
        "from langchain.schema import Document\n",
        "from langchain_experimental.text_splitter import SemanticChunker\n",
        "from langchain_naver.embeddings import ClovaXEmbeddings\n",
        "from langchain_milvus.vectorstores import Milvus\n",
        "from uuid import uuid4\n",
        "from langchain_naver.chat_models import ChatClovaX\n",
        "from langchain_core.prompts import PromptTemplate\n",
        "from langchain_core.output_parsers import StrOutputParser\n",
        "\n",
        "import pandas as pd\n",
        "import pytz\n",
        "\n",
        "from datasets import Dataset\n",
        "from datetime import timedelta\n",
        "from operator import itemgetter\n",
        "from langchain_teddynote.retrievers import KiwiBM25Retriever\n",
        "from langchain.retrievers.self_query.base import SelfQueryRetriever\n",
        "from langchain.chains.query_constructor.base import (\n",
        "  AttributeInfo,\n",
        "  StructuredQueryOutputParser,\n",
        "  get_query_constructor_prompt\n",
        ")\n",
        "from langchain_teddynote.evaluator import GroundednessChecker\n",
        "from langchain.retrievers.self_query.milvus import MilvusTranslator\n",
        "from langchain_core.runnables import RunnablePassthrough, RunnableParallel, RunnableLambda\n",
        "import warnings\n",
        "from langchain_core.runnables import chain\n",
        "\n",
        "warnings.filterwarnings('ignore')"
      ]
    },
    {
      "cell_type": "code",
      "execution_count": 2,
      "metadata": {},
      "outputs": [
        {
          "data": {
            "text/plain": [
              "True"
            ]
          },
          "execution_count": 2,
          "metadata": {},
          "output_type": "execute_result"
        }
      ],
      "source": [
        "from dotenv import load_dotenv\n",
        "\n",
        "load_dotenv()"
      ]
    },
    {
      "cell_type": "code",
      "execution_count": 3,
      "metadata": {
        "id": "LP2hMGEp0B2P"
      },
      "outputs": [],
      "source": [
        "embeddings = ClovaXEmbeddings(\n",
        "    model='bge-m3'\n",
        ")"
      ]
    },
    {
      "cell_type": "code",
      "execution_count": 16,
      "metadata": {},
      "outputs": [
        {
          "ename": "AttributeError",
          "evalue": "'str' object has no attribute 'start_date'",
          "output_type": "error",
          "traceback": [
            "\u001b[1;31m---------------------------------------------------------------------------\u001b[0m",
            "\u001b[1;31mAttributeError\u001b[0m                            Traceback (most recent call last)",
            "\u001b[1;32m<ipython-input-16-b98fcdc3d5cf>\u001b[0m in \u001b[0;36m<module>\u001b[1;34m\u001b[0m\n\u001b[1;32m----> 1\u001b[1;33m \u001b[0madjust_time_filter_to_week\u001b[0m\u001b[1;33m(\u001b[0m\u001b[1;34m'2025년 1월 25일'\u001b[0m\u001b[1;33m)\u001b[0m\u001b[1;33m\u001b[0m\u001b[1;33m\u001b[0m\u001b[0m\n\u001b[0m",
            "\u001b[1;32m<ipython-input-4-fe9b20d9556b>\u001b[0m in \u001b[0;36madjust_time_filter_to_week\u001b[1;34m(time_filter)\u001b[0m\n\u001b[0;32m      8\u001b[0m     \"\"\"\n\u001b[0;32m      9\u001b[0m     \u001b[1;31m# Extract start_date and end_date from time_filter\u001b[0m\u001b[1;33m\u001b[0m\u001b[1;33m\u001b[0m\u001b[0m\n\u001b[1;32m---> 10\u001b[1;33m     \u001b[0mstart_date\u001b[0m \u001b[1;33m=\u001b[0m \u001b[0mtime_filter\u001b[0m\u001b[1;33m.\u001b[0m\u001b[0mstart_date\u001b[0m\u001b[1;33m\u001b[0m\u001b[1;33m\u001b[0m\u001b[0m\n\u001b[0m\u001b[0;32m     11\u001b[0m     \u001b[0mend_date\u001b[0m \u001b[1;33m=\u001b[0m \u001b[0mtime_filter\u001b[0m\u001b[1;33m.\u001b[0m\u001b[0mend_date\u001b[0m\u001b[1;33m\u001b[0m\u001b[1;33m\u001b[0m\u001b[0m\n\u001b[0;32m     12\u001b[0m \u001b[1;33m\u001b[0m\u001b[0m\n",
            "\u001b[1;31mAttributeError\u001b[0m: 'str' object has no attribute 'start_date'"
          ]
        }
      ],
      "source": [
        "adjust_time_filter_to_week('2025년 1월 25일')"
      ]
    },
    {
      "cell_type": "code",
      "execution_count": 4,
      "metadata": {},
      "outputs": [],
      "source": [
        "def adjust_time_filter_to_week(time_filter):\n",
        "    \"\"\"\n",
        "    특정 날짜(YYYY-MM-DD)가 주어진 경우, 해당 날짜를 포함하는 주(월~일)의\n",
        "    첫 번째 날(월요일)과 마지막 날(일요일)로 변환하는 함수.\n",
        "\n",
        "    :param time_filter: dict, {\"start_date\": datetime, \"end_date\": datetime}\n",
        "    :return: dict, {\"start_date\": datetime, \"end_date\": datetime}\n",
        "    \"\"\"\n",
        "    # Extract start_date and end_date from time_filter\n",
        "    start_date = time_filter.start_date\n",
        "    end_date = time_filter.end_date\n",
        "\n",
        "    # Handle the case where start_date or end_date is None\n",
        "    if start_date is None or end_date is None:\n",
        "        if start_date is not None and end_date is None:\n",
        "            start_of_week = start_date - timedelta(days=start_date.weekday())  # 월요일 찾기\n",
        "            end_of_week = start_of_week + timedelta(days=6)  # 해당 주 일요일 찾기\n",
        "\n",
        "            return {\n",
        "                \"start_date\": start_of_week.replace(hour=0, minute=0, second=0),\n",
        "                \"end_date\": end_of_week.replace(hour=23, minute=59, second=59)\n",
        "            }\n",
        "        elif end_date is not None and start_date is None:\n",
        "            start_of_week = end_date - timedelta(days=end_date.weekday())  # 월요일 찾기\n",
        "            end_of_week = start_of_week + timedelta(days=6)  # 해당 주 일요일 찾기\n",
        "\n",
        "            return {\n",
        "                \"start_date\": start_of_week.replace(hour=0, minute=0, second=0),\n",
        "                \"end_date\": end_of_week.replace(hour=23, minute=59, second=59)\n",
        "            }\n",
        "        else:\n",
        "            return None  # or return the time_filter as is if you prefer\n",
        "\n",
        "    # 날짜가 동일한 경우, 주의 첫 번째 날(월요일)과 마지막 날(일요일)로 변경\n",
        "    if start_date.year == end_date.year and start_date.month==end_date.month and start_date.day==end_date.day:\n",
        "        start_of_week = start_date - timedelta(days=start_date.weekday())  # 월요일 찾기\n",
        "        end_of_week = start_of_week + timedelta(days=6)  # 해당 주 일요일 찾기\n",
        "\n",
        "        return {\n",
        "            \"start_date\": start_of_week.replace(hour=0, minute=0, second=0),\n",
        "            \"end_date\": end_of_week.replace(hour=23, minute=59, second=59)\n",
        "        }\n",
        "\n",
        "    # 날짜가 다르면 기존 time_filter 유지\n",
        "    return {\n",
        "        \"start_date\": start_date,\n",
        "        \"end_date\": end_date\n",
        "    }"
      ]
    },
    {
      "cell_type": "code",
      "execution_count": null,
      "metadata": {},
      "outputs": [],
      "source": [
        "from datetime import datetime\n",
        "from typing import Optional\n",
        "from pydantic import BaseModel\n",
        "import instructor\n",
        "from pydantic import BaseModel, Field, field_validator\n",
        "from typing import Literal\n",
        "\n",
        "\n",
        "class TimeFilter(BaseModel):\n",
        "    start_date: Optional[datetime] = None\n",
        "    end_date: Optional[datetime] = None\n",
        "\n",
        "class SearchQuery(BaseModel):\n",
        "    query: str\n",
        "    time_filter: TimeFilter\n",
        "\n",
        "class Label(BaseModel):\n",
        "    chunk_id: int = Field(description=\"The unique identifier of the text chunk\")\n",
        "    chain_of_thought: str = Field(\n",
        "        description=\"The reasoning process used to evaluate the relevance\"\n",
        "    )\n",
        "    relevancy: int = Field(\n",
        "        description=\"Relevancy score from 0 to 10, where 10 is most relevant\",\n",
        "        ge=0,\n",
        "        le=10,\n",
        "    )\n",
        "\n",
        "class RerankedResults(BaseModel):\n",
        "    labels: list[Label] = Field(description=\"List of labeled and ranked chunks\")\n",
        "\n",
        "    @field_validator(\"labels\")\n",
        "    @classmethod\n",
        "    def model_validate(cls, v: list[Label]) -> list[Label]:\n",
        "        return sorted(v, key=lambda x: x.relevancy, reverse=True)\n",
        "\n",
        "def rerank_results(query: str, chunks: list[dict]) -> RerankedResults:\n",
        "    # HCX-005 모델을 사용하는 ChatClovaX 인스턴스 생성\n",
        "    chat = ChatClovaX(\n",
        "        model=\"HCX-005\",\n",
        "    )\n",
        "\n",
        "    # 프롬프트 구성\n",
        "    system_prompt = \"\"\"\n",
        "        You are an expert search result ranker. Your task is to evaluate the relevance of each text chunk to the given query and assign a relevancy score.\n",
        "\n",
        "        For each chunk:\n",
        "        1. Analyze its content in relation to the query.\n",
        "        2. Provide a chain of thought explaining your reasoning.\n",
        "        3. Assign a relevancy score from 0 to 10, where 10 is most relevant.\n",
        "\n",
        "        Be objective and consistent in your evaluations.\n",
        "        \"\"\"\n",
        "\n",
        "    # chunk 정보를 텍스트로 변환\n",
        "    chunk_text = \"\"\n",
        "    for chunk in chunks:\n",
        "        chunk_text += f'<chunk id=\"{chunk[\"id\"]}\">\\n{chunk[\"text\"]}\\n</chunk>\\n'\n",
        "\n",
        "    user_prompt = f\"\"\"\n",
        "        <query>{query}</query>\n",
        "\n",
        "        <chunks_to_rank>\n",
        "        {chunk_text}\n",
        "        </chunks_to_rank>\n",
        "\n",
        "        Please provide a JSON array of objects with keys: id, score, reasoning.\n",
        "        \"\"\"\n",
        "\n",
        "    # HCX-005에 메시지 전달\n",
        "    messages = [\n",
        "        {\"role\": \"system\", \"content\": system_prompt},\n",
        "        {\"role\": \"user\", \"content\": user_prompt}\n",
        "    ]\n",
        "\n",
        "    response = chat.invoke(messages)\n",
        "    # response.content에 결과 JSON이 들어있다고 가정\n",
        "    import json\n",
        "    labels = json.loads(response.content)\n",
        "    return RerankedResults(labels=[Label(**label) for label in labels])"
      ]
    },
    {
      "cell_type": "code",
      "execution_count": 15,
      "metadata": {},
      "outputs": [
        {
          "ename": "AttributeError",
          "evalue": "'str' object has no attribute 'start_date'",
          "output_type": "error",
          "traceback": [
            "\u001b[1;31m---------------------------------------------------------------------------\u001b[0m",
            "\u001b[1;31mAttributeError\u001b[0m                            Traceback (most recent call last)",
            "\u001b[1;32m<ipython-input-15-8b0bb7bb43dc>\u001b[0m in \u001b[0;36m<module>\u001b[1;34m\u001b[0m\n\u001b[1;32m----> 1\u001b[1;33m \u001b[0mget_query_date\u001b[0m\u001b[1;33m(\u001b[0m\u001b[1;34m'2025년 12월 25일'\u001b[0m\u001b[1;33m)\u001b[0m\u001b[1;33m\u001b[0m\u001b[1;33m\u001b[0m\u001b[0m\n\u001b[0m",
            "\u001b[1;32m<ipython-input-6-f115535dab1b>\u001b[0m in \u001b[0;36mget_query_date\u001b[1;34m(question)\u001b[0m\n\u001b[0;32m     32\u001b[0m         \u001b[0mtime_filter\u001b[0m \u001b[1;33m=\u001b[0m \u001b[1;32mNone\u001b[0m\u001b[1;33m\u001b[0m\u001b[1;33m\u001b[0m\u001b[0m\n\u001b[0;32m     33\u001b[0m \u001b[1;33m\u001b[0m\u001b[0m\n\u001b[1;32m---> 34\u001b[1;33m     \u001b[0mparsed_dates\u001b[0m \u001b[1;33m=\u001b[0m \u001b[0madjust_time_filter_to_week\u001b[0m\u001b[1;33m(\u001b[0m\u001b[0mtime_filter\u001b[0m\u001b[1;33m)\u001b[0m\u001b[1;33m\u001b[0m\u001b[1;33m\u001b[0m\u001b[0m\n\u001b[0m\u001b[0;32m     35\u001b[0m \u001b[1;33m\u001b[0m\u001b[0m\n\u001b[0;32m     36\u001b[0m     \u001b[1;32mif\u001b[0m \u001b[0mparsed_dates\u001b[0m\u001b[1;33m:\u001b[0m\u001b[1;33m\u001b[0m\u001b[1;33m\u001b[0m\u001b[0m\n",
            "\u001b[1;32m<ipython-input-4-fe9b20d9556b>\u001b[0m in \u001b[0;36madjust_time_filter_to_week\u001b[1;34m(time_filter)\u001b[0m\n\u001b[0;32m      8\u001b[0m     \"\"\"\n\u001b[0;32m      9\u001b[0m     \u001b[1;31m# Extract start_date and end_date from time_filter\u001b[0m\u001b[1;33m\u001b[0m\u001b[1;33m\u001b[0m\u001b[0m\n\u001b[1;32m---> 10\u001b[1;33m     \u001b[0mstart_date\u001b[0m \u001b[1;33m=\u001b[0m \u001b[0mtime_filter\u001b[0m\u001b[1;33m.\u001b[0m\u001b[0mstart_date\u001b[0m\u001b[1;33m\u001b[0m\u001b[1;33m\u001b[0m\u001b[0m\n\u001b[0m\u001b[0;32m     11\u001b[0m     \u001b[0mend_date\u001b[0m \u001b[1;33m=\u001b[0m \u001b[0mtime_filter\u001b[0m\u001b[1;33m.\u001b[0m\u001b[0mend_date\u001b[0m\u001b[1;33m\u001b[0m\u001b[1;33m\u001b[0m\u001b[0m\n\u001b[0;32m     12\u001b[0m \u001b[1;33m\u001b[0m\u001b[0m\n",
            "\u001b[1;31mAttributeError\u001b[0m: 'str' object has no attribute 'start_date'"
          ]
        }
      ],
      "source": [
        "get_query_date('2025년 12월 25일')"
      ]
    },
    {
      "cell_type": "code",
      "execution_count": null,
      "metadata": {},
      "outputs": [],
      "source": [
        "def get_query_date(question):\n",
        "    today = datetime(2025, 1, 25)\n",
        "    days_since_last_friday = (today.weekday() - 4) % 7\n",
        "    last_friday = today - timedelta(days=days_since_last_friday)\n",
        "    issue_date = last_friday.strftime(\"%Y-%m-%d\")\n",
        "\n",
        "    # ChatClovaX 인스턴스 생성\n",
        "    chat = ChatClovaX(\n",
        "        model=\"HCX-005\",  # 가장 성능 좋은 모델\n",
        "    )\n",
        "\n",
        "    system_prompt = f\"\"\"\n",
        "        You are an AI assistant that extracts date ranges from financial queries.\n",
        "        The current report date is {issue_date}.\n",
        "        Your task is to extract the relevant date or date range from the user's query\n",
        "        and format it in YYYY-MM-DD format.\n",
        "        If no date is specified, answer with None value.\n",
        "        Return your answer as a JSON object: {{\"time_filter\": \"YYYY-MM-DD to YYYY-MM-DD\"}} or {{\"time_filter\": null}}\n",
        "    \"\"\"\n",
        "\n",
        "    messages = [\n",
        "        {\"role\": \"system\", \"content\": system_prompt},\n",
        "        {\"role\": \"user\", \"content\": question}\n",
        "    ]\n",
        "    \n",
        "    response = chat.invoke(messages)\n",
        "    import json\n",
        "    try:\n",
        "        data = json.loads(response.content)\n",
        "        time_filter = data.get(\"time_filter\", None)\n",
        "    except Exception:\n",
        "        time_filter = None\n",
        "\n",
        "    parsed_dates = adjust_time_filter_to_week(time_filter)\n",
        "\n",
        "    if parsed_dates:\n",
        "        start = parsed_dates['start_date']\n",
        "        end = parsed_dates['end_date']\n",
        "    else:\n",
        "        start = None\n",
        "        end = None\n",
        "\n",
        "    if start is None or end is None:\n",
        "        expr = None\n",
        "    else:\n",
        "        expr = f\"issue_date >= '{start.strftime('%Y%m%d')}' AND issue_date <= '{end.strftime('%Y%m%d')}'\"\n",
        "    return expr"
      ]
    },
    {
      "cell_type": "code",
      "execution_count": 7,
      "metadata": {},
      "outputs": [],
      "source": [
        "def convert_to_list(example):\n",
        "    if isinstance(example[\"contexts\"], list):\n",
        "        contexts = example[\"contexts\"]\n",
        "    else:\n",
        "        try:\n",
        "            contexts = json.loads(example[\"contexts\"])\n",
        "        except json.JSONDecodeError as e:\n",
        "            print(f\"JSON Decode Error: {example['contexts']} - {e}\")\n",
        "            contexts = []\n",
        "    return {\"contexts\": contexts}\n",
        "\n",
        "def generate_expr(question: str) -> dict:\n",
        "    expr = get_query_date(question)\n",
        "    return {\"expr\": expr}\n",
        "\n",
        "def reranking(docs, question, k=15):\n",
        "    chunks = [{\"id\": idx, \"issue_date\": doc.metadata['issue_date'],  \"text\": doc.page_content} for idx, doc in enumerate(docs)]\n",
        "    documents_with_metadata = [{\"text\": doc.page_content, \"metadata\": doc.metadata} for doc in docs]\n",
        "    reranked_results = rerank_results(query=question, chunks=chunks)\n",
        "\n",
        "    chunk_dict = {chunk[\"id\"]: chunk[\"text\"] for chunk in chunks}\n",
        "    top_k_results = [chunk_dict.get(label.chunk_id, \"\") for label in reranked_results.labels[:k] if label.chunk_id in chunk_dict]\n",
        "\n",
        "    reranked_results_with_metadata = []\n",
        "    for reranked_result in top_k_results:\n",
        "        page_content = reranked_result\n",
        "\n",
        "        matching_metadata = None\n",
        "        for doc in documents_with_metadata:\n",
        "            if doc[\"text\"] == page_content:\n",
        "                matching_metadata = doc[\"metadata\"]\n",
        "                break\n",
        "\n",
        "        document = Document(\n",
        "            metadata=matching_metadata,\n",
        "            page_content=page_content\n",
        "        )\n",
        "        reranked_results_with_metadata.append(document)\n",
        "\n",
        "    context_rerankedNbm25 = reranked_results_with_metadata\n",
        "    return context_rerankedNbm25\n",
        "\n",
        "text_prompt = PromptTemplate.from_template(\n",
        "'''\n",
        "today is '2025-01-25'. You are an assistant for question-answering tasks.\n",
        "Use the following pieces of retrieved context to answer the question.\n",
        "If you don't know the answer, just say that you don't know.\n",
        "If question has date expressions, context already filtered with the date expression, so ignore about the date and answer without it.\n",
        "Answer in Korean. Answer in detail.\n",
        "\n",
        "#Question:\n",
        "{question}\n",
        "#Context:\n",
        "{context}\n",
        "\n",
        "#Answer:'''\n",
        ")\n"
      ]
    },
    {
      "cell_type": "code",
      "execution_count": 8,
      "metadata": {},
      "outputs": [],
      "source": [
        "question_answer_relevant = GroundednessChecker(\n",
        "  llm=ChatClovaX(model=\"HCX-005\"), target='question-answer'\n",
        ").create()\n",
        "\n",
        "@chain\n",
        "def kill_table(result):\n",
        "    if question_answer_relevant.invoke({'question': result['question'], 'answer': result['text']}).score == 'no':\n",
        "        result['context'] = table_chain.invoke({'question': result['question']})\n",
        "    else:\n",
        "        result['context'] = result['text']\n",
        "    return result"
      ]
    },
    {
      "cell_type": "code",
      "execution_count": 9,
      "metadata": {},
      "outputs": [
        {
          "data": {
            "text/plain": [
              "AIMessage(content='안녕하세요! 저는 CLOVA X입니다.\\n\\n궁금하신 내용이나 도움이 필요한 사항이 있으시면 말씀해 주세요. 제가 알고 있는 지식과 능력으로 최대한 도움을 드리겠습니다.\\n\\n즐거운 하루 보내세요!', additional_kwargs={'refusal': None}, response_metadata={'token_usage': {'completion_tokens': 43, 'prompt_tokens': 7, 'total_tokens': 50, 'completion_tokens_details': None, 'prompt_tokens_details': None}, 'model_name': 'HCX-005', 'system_fingerprint': None, 'id': '80678fa8fdf7416d8c1c76b3ab3cbb65', 'service_tier': None, 'finish_reason': 'stop', 'logprobs': None}, id='run--addc7cd2-8f9e-4d3a-9c48-d2fbfe09bebf-0', usage_metadata={'input_tokens': 7, 'output_tokens': 43, 'total_tokens': 50, 'input_token_details': {}, 'output_token_details': {}})"
            ]
          },
          "execution_count": 9,
          "metadata": {},
          "output_type": "execute_result"
        }
      ],
      "source": [
        "from langchain_naver import ChatClovaX\n",
        "\n",
        "chat = ChatClovaX(\n",
        "    model=\"HCX-005\"\n",
        ")\n",
        "chat.invoke(\"hi!\")\n"
      ]
    },
    {
      "cell_type": "code",
      "execution_count": 10,
      "metadata": {},
      "outputs": [],
      "source": [
        "URI = 'http://127.0.0.1:19530'\n",
        "\n",
        "text_db = Milvus(\n",
        "    embedding_function=embeddings,\n",
        "    connection_args = {'uri': URI},\n",
        "    index_params={'index_type': 'AUTOINDEX', 'metric_type': 'IP'},\n",
        "    collection_name='text_db'\n",
        ")\n",
        "\n",
        "image_db = Milvus(\n",
        "    embedding_function=embeddings,\n",
        "    connection_args = {'uri': URI},\n",
        "    index_params={'index_type': 'AUTOINDEX', 'metric_type': 'IP'},\n",
        "    collection_name='image_db'\n",
        ")\n",
        "\n",
        "raptor_db = Milvus(\n",
        "    embedding_function=embeddings,\n",
        "    connection_args = {'uri': URI},\n",
        "    index_params={'index_type': 'AUTOINDEX', 'metric_type': 'IP'},\n",
        "    collection_name='raptor_db'\n",
        ")\n",
        "\n",
        "table_db = Milvus(\n",
        "    embedding_function=embeddings,\n",
        "    connection_args = {'uri': URI},\n",
        "    index_params={'index_type': 'AUTOINDEX', 'metric_type': 'IP'},\n",
        "    collection_name='table_db'\n",
        ")"
      ]
    },
    {
      "cell_type": "code",
      "execution_count": 11,
      "metadata": {},
      "outputs": [],
      "source": [
        "filepath = 'chunked_jsonl/table_v7.jsonl'\n",
        "\n",
        "splitted_doc_table = []\n",
        "with open(filepath, 'r', encoding='utf-8') as file:\n",
        "    for line in file:\n",
        "        if line.startswith('\\n('):\n",
        "            continue\n",
        "        data = json.loads(line)\n",
        "\n",
        "        doc = Document(\n",
        "            page_content=data['page_content'],\n",
        "            metadata=data['metadata']\n",
        "        )\n",
        "        splitted_doc_table.append(doc)"
      ]
    },
    {
      "cell_type": "code",
      "execution_count": 12,
      "metadata": {},
      "outputs": [],
      "source": [
        "bm25_retriever_table = KiwiBM25Retriever.from_documents(\n",
        "    splitted_doc_table\n",
        ")\n",
        "bm25_retriever_table.k = 5"
      ]
    },
    {
      "cell_type": "code",
      "execution_count": 13,
      "metadata": {},
      "outputs": [],
      "source": [
        "def format_docs(docs):\n",
        "    # 각 문서의 issue_date와 page_content를 함께 출력하도록 포맷합니다.\n",
        "    return \"\\n\\n\".join(\n",
        "        f\"Issue Date: {doc.metadata.get('issue_date', 'Unknown')}\\nContent: {doc.page_content}\"\n",
        "        for doc in docs\n",
        "    )"
      ]
    },
    {
      "cell_type": "code",
      "execution_count": 14,
      "metadata": {},
      "outputs": [
        {
          "ename": "AttributeError",
          "evalue": "'NoneType' object has no attribute 'start_date'",
          "output_type": "error",
          "traceback": [
            "\u001b[1;31m---------------------------------------------------------------------------\u001b[0m",
            "\u001b[1;31mAttributeError\u001b[0m                            Traceback (most recent call last)",
            "\u001b[1;32m<ipython-input-14-0177f2023ff7>\u001b[0m in \u001b[0;36m<module>\u001b[1;34m\u001b[0m\n\u001b[1;32m----> 1\u001b[1;33m \u001b[0mget_query_date\u001b[0m\u001b[1;33m(\u001b[0m\u001b[1;34m'연준의 비공식 대변인은?'\u001b[0m\u001b[1;33m)\u001b[0m\u001b[1;33m\u001b[0m\u001b[1;33m\u001b[0m\u001b[0m\n\u001b[0m",
            "\u001b[1;32m<ipython-input-6-f115535dab1b>\u001b[0m in \u001b[0;36mget_query_date\u001b[1;34m(question)\u001b[0m\n\u001b[0;32m     32\u001b[0m         \u001b[0mtime_filter\u001b[0m \u001b[1;33m=\u001b[0m \u001b[1;32mNone\u001b[0m\u001b[1;33m\u001b[0m\u001b[1;33m\u001b[0m\u001b[0m\n\u001b[0;32m     33\u001b[0m \u001b[1;33m\u001b[0m\u001b[0m\n\u001b[1;32m---> 34\u001b[1;33m     \u001b[0mparsed_dates\u001b[0m \u001b[1;33m=\u001b[0m \u001b[0madjust_time_filter_to_week\u001b[0m\u001b[1;33m(\u001b[0m\u001b[0mtime_filter\u001b[0m\u001b[1;33m)\u001b[0m\u001b[1;33m\u001b[0m\u001b[1;33m\u001b[0m\u001b[0m\n\u001b[0m\u001b[0;32m     35\u001b[0m \u001b[1;33m\u001b[0m\u001b[0m\n\u001b[0;32m     36\u001b[0m     \u001b[1;32mif\u001b[0m \u001b[0mparsed_dates\u001b[0m\u001b[1;33m:\u001b[0m\u001b[1;33m\u001b[0m\u001b[1;33m\u001b[0m\u001b[0m\n",
            "\u001b[1;32m<ipython-input-4-fe9b20d9556b>\u001b[0m in \u001b[0;36madjust_time_filter_to_week\u001b[1;34m(time_filter)\u001b[0m\n\u001b[0;32m      8\u001b[0m     \"\"\"\n\u001b[0;32m      9\u001b[0m     \u001b[1;31m# Extract start_date and end_date from time_filter\u001b[0m\u001b[1;33m\u001b[0m\u001b[1;33m\u001b[0m\u001b[0m\n\u001b[1;32m---> 10\u001b[1;33m     \u001b[0mstart_date\u001b[0m \u001b[1;33m=\u001b[0m \u001b[0mtime_filter\u001b[0m\u001b[1;33m.\u001b[0m\u001b[0mstart_date\u001b[0m\u001b[1;33m\u001b[0m\u001b[1;33m\u001b[0m\u001b[0m\n\u001b[0m\u001b[0;32m     11\u001b[0m     \u001b[0mend_date\u001b[0m \u001b[1;33m=\u001b[0m \u001b[0mtime_filter\u001b[0m\u001b[1;33m.\u001b[0m\u001b[0mend_date\u001b[0m\u001b[1;33m\u001b[0m\u001b[1;33m\u001b[0m\u001b[0m\n\u001b[0;32m     12\u001b[0m \u001b[1;33m\u001b[0m\u001b[0m\n",
            "\u001b[1;31mAttributeError\u001b[0m: 'NoneType' object has no attribute 'start_date'"
          ]
        }
      ],
      "source": [
        "get_query_date('연준의 비공식 대변인은?')"
      ]
    },
    {
      "cell_type": "code",
      "execution_count": 127,
      "metadata": {},
      "outputs": [],
      "source": [
        "llm_text = ChatClovaX(model='HCX-005')\n",
        "\n",
        "answer = []\n",
        "\n",
        "text_chain = (\n",
        "    RunnableParallel(\n",
        "        question=itemgetter('question')\n",
        "    ).assign(expr = lambda x: get_query_date(x['question'])\n",
        "    ).assign(context_raw=lambda x: RunnableLambda(\n",
        "            lambda _: text_db.as_retriever(\n",
        "                search_kwargs={'expr': x['expr'], 'k': 25}\n",
        "            ).invoke(x['question'])\n",
        "        ).invoke({}),\n",
        "    ).assign(\n",
        "        formatted_context=lambda x: format_docs(x['context_raw'])\n",
        "    )\n",
        "    | RunnableLambda(\n",
        "        lambda x: {\n",
        "            \"question\": x['question'],\n",
        "            \"context\": x['formatted_context'],  \n",
        "        }\n",
        "    )\n",
        "    | text_prompt\n",
        "    | llm_text\n",
        "    | StrOutputParser()\n",
        ")"
      ]
    },
    {
      "cell_type": "code",
      "execution_count": null,
      "metadata": {},
      "outputs": [],
      "source": [
        ".assign(\n",
        "        context=lambda x: reranking(\n",
        "            list({doc.metadata.get(\"pk\"): doc for doc in (x['context_raw'])}.values()),\n",
        "            x['question'], 15\n",
        "        )\n",
        "    )"
      ]
    },
    {
      "cell_type": "code",
      "execution_count": 130,
      "metadata": {},
      "outputs": [
        {
          "data": {
            "text/plain": [
              "'2024년 10월 첫째 주 국내 채권시장은 국제 유가의 급등과 외국인의 매도세 등으로 인해 전반적으로 약세를 보였습니다. 특히 4일에는 국고채 3년물의 최종호가 수익률이 전장 대비 4.4bp 상승해 2.824%에 도달하고, 10년물은 6.4bp 상승하여 2.996%로 마감되었습니다. \\n\\n그러나 초기에는 미국의 개인소비지출 가격지수의 예상치 하회로 인한 강세의 영향을 받아 긍정적인 시작을 했습니다. 이후 이란의 이스라엘 공습으로 안전자산 선호심리가 강화되면서 미국 국채 금리의 하락에 따라 국내 국고채 금리도 강세를 보였으며, 이는 국고 3년 금리가 장중 2.775%까지 내려가는 결과를 낳았습니다. 그러나 장 막판에 이르러서는 수급 요인으로 인해 제한적인 강세에 그치며 결국 하락 마감했습니다.\\n\\n기타 금융채 발행액은 전주 대비 크게 감소한 7,900억원을 기록했으며, 회사채 발행 금액은 1조 200억 원이고 만기 금액은 6,110억 원으로 집계되어 총 4,090억 원의 순 발행을 기록했습니다. 은행채 발행액 역시 전주 대비 크게 감소하여 1조 7,400억 원을 기록하였습니다.\\n\\n단기사채 발행액도 전주 대비 감소하여 169,638억 원을 기록했으며, ELS 발행 건수와 발행 총액 역시 전주 대비 줄어들어 각각 1.76조원을 기록했습니다. 정기예금 발행금액은 전주 대비 감소한 7,301억 원이었으며, 부동산 관련 대출 발행 금액은 증가하여 12,978억 원을 기록했습니다.\\n\\nCD금리(AAA등급 3개월물 기준)는 전주 대비 약간 하락하여 3.52%로 마감되었고, CP금리(91일, A1등급 기준)는 전주와 비슷한 수준인 3.53%로 마감되었습니다. 이와 함께 회사채 유통 시장에서의 거래도 전주 대비 부진하게 이루어져 전체 유통량이 2조 7,438억 원으로 감소했습니다.\\n\\n국고 5년물과 10년물의 수익률은 각각 소폭 상승 및 하락으로 마감되었으며, CD 발행은 국내 은행 5곳에서 총 5,'"
            ]
          },
          "execution_count": 130,
          "metadata": {},
          "output_type": "execute_result"
        }
      ],
      "source": [
        "text_chain.invoke({'question': '2024년 10월 첫째 주 국내 채권시장 동향'})"
      ]
    },
    {
      "cell_type": "code",
      "execution_count": 104,
      "metadata": {},
      "outputs": [],
      "source": [
        "import json\n",
        "\n",
        "def parse_search_query_response(response: str, question: str) -> SearchQuery:\n",
        "    \"\"\"\n",
        "    ChatClovaX 응답을 SearchQuery 객체로 파싱\n",
        "    \"\"\"\n",
        "    try:\n",
        "        # 응답이 JSON 문자열이라고 가정\n",
        "        data = json.loads(response.content)\n",
        "        # time_filter가 null이면 빈 dict으로 변환\n",
        "        if data.get(\"time_filter\") is None:\n",
        "            data[\"time_filter\"] = {}\n",
        "        # query 필드가 없으면 원본 question을 사용\n",
        "        if \"query\" not in data:\n",
        "            data[\"query\"] = question\n",
        "        return SearchQuery(**data)\n",
        "    except Exception:\n",
        "        # 파싱 실패 시, 기본값 반환\n",
        "        return SearchQuery(query=question, time_filter=TimeFilter())\n"
      ]
    },
    {
      "cell_type": "code",
      "execution_count": 102,
      "metadata": {},
      "outputs": [
        {
          "data": {
            "text/plain": [
              "{'query': '2025년 2월 둘째 주의 국공채 발행액은?',\n",
              " 'time_filter': {'start_date': '2025-02-08', 'end_date': '2025-02-14'}}"
            ]
          },
          "execution_count": 102,
          "metadata": {},
          "output_type": "execute_result"
        }
      ],
      "source": [
        "json.loads(response.content)"
      ]
    },
    {
      "cell_type": "code",
      "execution_count": 114,
      "metadata": {},
      "outputs": [],
      "source": [
        "def get_query_date_small(question):\n",
        "    today = datetime(2025, 1, 25)\n",
        "    days_since_last_friday = (today.weekday() - 4) % 7\n",
        "    last_friday = today - timedelta(days=days_since_last_friday)\n",
        "    issue_date = last_friday.strftime(\"%Y-%m-%d\")\n",
        "\n",
        "    # ChatClovaX 인스턴스 생성\n",
        "    chat = ChatClovaX(\n",
        "        model=\"HCX-005\",\n",
        "        temperature = 0\n",
        "    )\n",
        "\n",
        "    # 프롬프트: 반드시 SearchQuery 포맷(JSON)으로만 답변하게 유도\n",
        "    system_prompt = f\"\"\"\n",
        "    You are an AI assistant that extracts date ranges from financial queries.\n",
        "    The current report date is {issue_date}.\n",
        "    Your task is to extract the relevant date or date range from the user's query\n",
        "    and format it in YYYY-MM-DD format.\n",
        "    If no date is specified, answer with None value.\n",
        "    Return your answer as a JSON object in this format:\n",
        "    {{\n",
        "        \"query\": \"<원본 질문>\",\n",
        "        \"time_filter\": {{\"start_date\": \"YYYY-MM-DD\", \"end_date\": \"YYYY-MM-DD\"}} or {{\"start_date\": null, \"end_date\": null}}\n",
        "    }}\n",
        "    답변은 반드시 위 JSON 형태로만 해.\n",
        "    \"\"\"\n",
        "\n",
        "    messages = [\n",
        "        {\"role\": \"system\", \"content\": system_prompt},\n",
        "        {\"role\": \"user\", \"content\": question},\n",
        "    ]\n",
        "    \n",
        "    response = chat.invoke(messages)\n",
        "    # ChatClovaX 응답을 SearchQuery로 파싱\n",
        "    # search_query = parse_search_query_response(response, question)\n",
        "\n",
        "    # adjust_time_filter_to_week는 기존 함수 그대로 사용\n",
        "    # parsed_dates = adjust_time_filter_to_week(search_query.time_filter)\n",
        "\n",
        "    # if parsed_dates:\n",
        "    #     start = parsed_dates['start_date']\n",
        "    #     end = parsed_dates['end_date']\n",
        "    # else:\n",
        "    #     start = None\n",
        "    #     end = None\n",
        "\n",
        "    # if start is None or end is None:\n",
        "    #     expr = None\n",
        "    # else:\n",
        "    #     expr = f\"issue_date >= '{start.strftime('%Y%m%d')}' AND issue_date <= '{end.strftime('%Y%m%d')}'\"\n",
        "    return response\n"
      ]
    },
    {
      "cell_type": "code",
      "execution_count": 119,
      "metadata": {},
      "outputs": [
        {
          "data": {
            "text/plain": [
              "AIMessage(content='{\\n    \"query\": \"2025년 1년간 국고채 수익률\",\\n    \"time_filter\": {\"start_date\": \"2024-01-01\", \"end_date\": \"2025-12-31\"}\\n}', additional_kwargs={'refusal': None}, response_metadata={'token_usage': {'completion_tokens': 49, 'prompt_tokens': 158, 'total_tokens': 207, 'completion_tokens_details': None, 'prompt_tokens_details': None}, 'model_name': 'HCX-005', 'system_fingerprint': None, 'id': '57abe0622a5941f3b9f46f699a1f021c', 'service_tier': None, 'finish_reason': 'stop', 'logprobs': None}, id='run--e3158487-45ab-4a20-85ac-0603ce83810e-0', usage_metadata={'input_tokens': 158, 'output_tokens': 49, 'total_tokens': 207, 'input_token_details': {}, 'output_token_details': {}})"
            ]
          },
          "execution_count": 119,
          "metadata": {},
          "output_type": "execute_result"
        }
      ],
      "source": [
        "get_query_date_small('2025년 1년간 국고채 수익률은?')"
      ]
    },
    {
      "cell_type": "code",
      "execution_count": 107,
      "metadata": {},
      "outputs": [],
      "source": [
        "def get_query_date(question):\n",
        "    today = datetime(2025, 1, 25)\n",
        "    days_since_last_friday = (today.weekday() - 4) % 7\n",
        "    last_friday = today - timedelta(days=days_since_last_friday)\n",
        "    issue_date = last_friday.strftime(\"%Y-%m-%d\")\n",
        "\n",
        "    # ChatClovaX 인스턴스 생성\n",
        "    chat = ChatClovaX(\n",
        "        model=\"HCX-005\",\n",
        "        temperature = 0\n",
        "    )\n",
        "\n",
        "    # 프롬프트: 반드시 SearchQuery 포맷(JSON)으로만 답변하게 유도\n",
        "    system_prompt = f\"\"\"\n",
        "    You are an AI assistant that extracts date ranges from financial queries.\n",
        "    The current report date is {issue_date}.\n",
        "    Your task is to extract the relevant date or date range from the user's query\n",
        "    and format it in YYYY-MM-DD format.\n",
        "    If no date is specified, answer with None value.\n",
        "    Return your answer as a JSON object in this format:\n",
        "    {{\n",
        "        \"query\": \"<원본 질문>\",\n",
        "        \"time_filter\": {{\"start_date\": \"YYYY-MM-DD\", \"end_date\": \"YYYY-MM-DD\"}} or {{\"start_date\": null, \"end_date\": null}}\n",
        "    }}\n",
        "    답변은 반드시 위 JSON 형태로만 해.\n",
        "    \"\"\"\n",
        "\n",
        "    messages = [\n",
        "        {\"role\": \"system\", \"content\": system_prompt},\n",
        "        {\"role\": \"user\", \"content\": question},\n",
        "    ]\n",
        "    \n",
        "    response = chat.invoke(messages)\n",
        "    # ChatClovaX 응답을 SearchQuery로 파싱\n",
        "    search_query = parse_search_query_response(response, question)\n",
        "\n",
        "    # adjust_time_filter_to_week는 기존 함수 그대로 사용\n",
        "    parsed_dates = adjust_time_filter_to_week(search_query.time_filter)\n",
        "\n",
        "    if parsed_dates:\n",
        "        start = parsed_dates['start_date']\n",
        "        end = parsed_dates['end_date']\n",
        "    else:\n",
        "        start = None\n",
        "        end = None\n",
        "\n",
        "    if start is None or end is None:\n",
        "        expr = None\n",
        "    else:\n",
        "        expr = f\"issue_date >= '{start.strftime('%Y%m%d')}' AND issue_date <= '{end.strftime('%Y%m%d')}'\"\n",
        "    return expr\n"
      ]
    },
    {
      "cell_type": "code",
      "execution_count": 123,
      "metadata": {},
      "outputs": [],
      "source": [
        "get_query_date('연준의 비공식 대변인은?')"
      ]
    },
    {
      "cell_type": "code",
      "execution_count": 112,
      "metadata": {},
      "outputs": [
        {
          "data": {
            "text/plain": [
              "\"issue_date >= '20240101' AND issue_date <= '20251231'\""
            ]
          },
          "execution_count": 112,
          "metadata": {},
          "output_type": "execute_result"
        }
      ],
      "source": [
        "get_query_date('2025년 1년간 채권 발행액')"
      ]
    },
    {
      "cell_type": "code",
      "execution_count": 74,
      "metadata": {},
      "outputs": [],
      "source": [
        "expr"
      ]
    },
    {
      "cell_type": "code",
      "execution_count": 86,
      "metadata": {},
      "outputs": [],
      "source": [
        "def elsethings(response, question):\n",
        "    search_query = parse_search_query_response(response, question)\n",
        "    parsed_dates = adjust_time_filter_to_week(search_query.time_filter)\n",
        "\n",
        "    if parsed_dates:\n",
        "        start = parsed_dates['start_date']\n",
        "        end = parsed_dates['end_date']\n",
        "    else:\n",
        "        start = None\n",
        "        end = None\n",
        "\n",
        "    if start is None or end is None:\n",
        "        expr = None\n",
        "    else:\n",
        "        expr = f\"issue_date >= '{start.strftime('%Y%m%d')}' AND issue_date <= '{end.strftime('%Y%m%d')}'\"\n",
        "    return expr"
      ]
    },
    {
      "cell_type": "code",
      "execution_count": 105,
      "metadata": {},
      "outputs": [
        {
          "name": "stdout",
          "output_type": "stream",
          "text": [
            "issue_date >= '20250208' AND issue_date <= '20250214'\n"
          ]
        }
      ],
      "source": [
        "print(elsethings(response, '2025년 2월 둘째 주의 국공채 발행액은?'))"
      ]
    },
    {
      "cell_type": "code",
      "execution_count": null,
      "metadata": {},
      "outputs": [],
      "source": [
        "res"
      ]
    },
    {
      "cell_type": "code",
      "execution_count": 100,
      "metadata": {},
      "outputs": [
        {
          "data": {
            "text/plain": [
              "str"
            ]
          },
          "execution_count": 100,
          "metadata": {},
          "output_type": "execute_result"
        }
      ],
      "source": [
        "type(response.content)"
      ]
    },
    {
      "cell_type": "code",
      "execution_count": 95,
      "metadata": {},
      "outputs": [
        {
          "data": {
            "text/plain": [
              "AIMessage(content='{\\n    \"query\": \"2025년 2월 둘째 주의 국공채 발행액은?\",\\n    \"time_filter\": {\"start_date\": \"2025-02-08\", \"end_date\": \"2025-02-14\"}\\n}', additional_kwargs={'refusal': None}, response_metadata={'token_usage': {'completion_tokens': 53, 'prompt_tokens': 162, 'total_tokens': 215, 'completion_tokens_details': None, 'prompt_tokens_details': None}, 'model_name': 'HCX-005', 'system_fingerprint': None, 'id': '5a13f6ebd8c340b6a734e11da05ab032', 'service_tier': None, 'finish_reason': 'stop', 'logprobs': None}, id='run--630f0040-31f3-4b23-afe6-62e58c6bac84-0', usage_metadata={'input_tokens': 162, 'output_tokens': 53, 'total_tokens': 215, 'input_token_details': {}, 'output_token_details': {}})"
            ]
          },
          "execution_count": 95,
          "metadata": {},
          "output_type": "execute_result"
        }
      ],
      "source": [
        "response"
      ]
    },
    {
      "cell_type": "code",
      "execution_count": 94,
      "metadata": {},
      "outputs": [
        {
          "data": {
            "text/plain": [
              "SearchQuery(query='2025년 2월 둘째 주의 국공채 발행액은?', time_filter=TimeFilter(start_date=None, end_date=None))"
            ]
          },
          "execution_count": 94,
          "metadata": {},
          "output_type": "execute_result"
        }
      ],
      "source": [
        "parse_search_query_response(response, '2025년 2월 둘째 주의 국공채 발행액은?')"
      ]
    },
    {
      "cell_type": "code",
      "execution_count": 93,
      "metadata": {},
      "outputs": [
        {
          "ename": "NameError",
          "evalue": "name 'parsed_dates' is not defined",
          "output_type": "error",
          "traceback": [
            "\u001b[1;31m---------------------------------------------------------------------------\u001b[0m",
            "\u001b[1;31mNameError\u001b[0m                                 Traceback (most recent call last)",
            "\u001b[1;32m<ipython-input-93-38617ebc009b>\u001b[0m in \u001b[0;36m<module>\u001b[1;34m\u001b[0m\n\u001b[1;32m----> 1\u001b[1;33m \u001b[0mparsed_dates\u001b[0m\u001b[1;33m\u001b[0m\u001b[1;33m\u001b[0m\u001b[0m\n\u001b[0m",
            "\u001b[1;31mNameError\u001b[0m: name 'parsed_dates' is not defined"
          ]
        }
      ],
      "source": [
        "response"
      ]
    },
    {
      "cell_type": "code",
      "execution_count": null,
      "metadata": {},
      "outputs": [],
      "source": [
        "from datetime import datetime\n",
        "from typing import Dict, Any\n",
        "from pydantic import BaseModel, Field\n",
        "import json\n",
        "\n",
        "# 평가 결과 모델\n",
        "class GroundnessQuestionScore(BaseModel):\n",
        "    score: str = Field(\n",
        "        description=\"질문과 답변이 명확히 관련 있으면 'yes', 아니면 'no'\"\n",
        "    )\n",
        "\n",
        "class GroundnessAnswerRetrievalScore(BaseModel):\n",
        "    score: str = Field(\n",
        "        description=\"검색된 문서와 답변이 명확히 관련 있으면 'yes', 아니면 'no'\"\n",
        "    )\n",
        "\n",
        "class GroundnessQuestionRetrievalScore(BaseModel):\n",
        "    score: str = Field(\n",
        "        description=\"검색된 문서와 질문이 명확히 관련 있으면 'yes', 아니면 'no'\"\n",
        "    )"
      ]
    },
    {
      "cell_type": "code",
      "execution_count": null,
      "metadata": {},
      "outputs": [],
      "source": [
        "class GroundednessCheckerClovaX:\n",
        "    \"\"\"\n",
        "    하이퍼클로바 X 기반의 정확성 평가기 (한글 프롬프트 + yes/no 단일값 예시)\n",
        "    \"\"\"\n",
        "\n",
        "    def __init__(self, llm, target=\"retrieval-answer\"):\n",
        "        self.target = target\n",
        "        self.llm = llm\n",
        "\n",
        "    def _get_prompt_and_inputs(self, **kwargs):\n",
        "        if self.target == \"retrieval-answer\":\n",
        "            template = \"\"\"\n",
        "당신은 검색된 문서가 사용자 답변과 얼마나 관련이 있는지 평가하는 평가자입니다.\n",
        "아래는 검색된 문서입니다:\n",
        "{context}\n",
        "아래는 답변입니다:\n",
        "{answer}\n",
        "문서에 답변과 관련된 키워드나 의미가 명확하게 포함되어 있다면 '관련 있음'으로 평가하세요.\n",
        "문서에 답변과 관련된 정보가 전혀 없다면 '관련 없음'으로 평가하세요.\n",
        "엄격하게 평가하세요. 명확히 관련 있을 때만 'yes'로 답하세요.\n",
        "\n",
        "예시:\n",
        "문서: \"애플은 미국의 대표적인 IT 기업입니다.\"\n",
        "답변: \"애플은 미국 회사입니다.\"\n",
        "점수: yes\n",
        "\n",
        "문서: \"삼성전자는 반도체 시장에서 큰 비중을 차지합니다.\"\n",
        "답변: \"애플은 미국 회사입니다.\"\n",
        "점수: no\n",
        "\n",
        "반드시 'yes' 또는 'no'만 단독으로 답변하세요.\n",
        "\"\"\"\n",
        "            input_vars = [\"context\", \"answer\"]\n",
        "\n",
        "        elif self.target == \"question-answer\":\n",
        "            template = \"\"\"\n",
        "당신은 주어진 답변이 질문에 적절하게 답하고 있는지 평가하는 평가자입니다.\n",
        "아래는 질문입니다:\n",
        "{question}\n",
        "아래는 답변입니다:\n",
        "{answer}\n",
        "답변이 질문에 직접적으로 답하고 있고 관련 정보가 포함되어 있다면 '관련 있음'으로 평가하세요.\n",
        "답변이 질문에 답하지 않거나 무관하다면 '관련 없음'으로 평가하세요.\n",
        "엄격하게 평가하세요. 명확히 관련 있을 때만 'yes'로 답하세요.\n",
        "\n",
        "예시:\n",
        "질문: \"프랑스의 수도는 어디인가요?\"\n",
        "답변: \"프랑스의 수도는 파리입니다.\"\n",
        "점수: yes\n",
        "\n",
        "질문: \"프랑스의 수도는 어디인가요?\"\n",
        "답변: \"프랑스는 유럽의 국가입니다.\"\n",
        "점수: no\n",
        "\n",
        "질문: \"프랑스의 수도는 어디인가요?\"\n",
        "답변: \"독일의 수도는 베를린입니다.\"\n",
        "점수: no\n",
        "\n",
        "반드시 'yes' 또는 'no'만 단독으로 답변하세요.\n",
        "\"\"\"\n",
        "            input_vars = [\"question\", \"answer\"]\n",
        "\n",
        "        elif self.target == \"question-retrieval\":\n",
        "            template = \"\"\"\n",
        "당신은 검색된 문서가 주어진 질문에 답하는 데 도움이 되는지 평가하는 평가자입니다.\n",
        "아래는 질문입니다:\n",
        "{question}\n",
        "아래는 검색된 문서입니다:\n",
        "{context}\n",
        "문서에 질문에 답하는 데 도움이 되는 정보가 명확하게 포함되어 있다면 '관련 있음'으로 평가하세요.\n",
        "문서에 질문에 도움이 되는 정보가 전혀 없다면 '관련 없음'으로 평가하세요.\n",
        "엄격하게 평가하세요. 명확히 관련 있을 때만 'yes'로 답하세요.\n",
        "\n",
        "예시:\n",
        "질문: \"프랑스의 수도는 어디인가요?\"\n",
        "문서: \"파리는 프랑스의 수도입니다.\"\n",
        "점수: yes\n",
        "\n",
        "질문: \"프랑스의 수도는 어디인가요?\"\n",
        "문서: \"프랑스는 유럽의 국가입니다.\"\n",
        "점수: no\n",
        "\n",
        "질문: \"프랑스의 수도는 어디인가요?\"\n",
        "문서: \"베를린은 독일의 수도입니다.\"\n",
        "점수: no\n",
        "\n",
        "반드시 'yes' 또는 'no'만 단독으로 답변하세요.\n",
        "\"\"\"\n",
        "            input_vars = [\"question\", \"context\"]\n",
        "\n",
        "        else:\n",
        "            raise ValueError(f\"Invalid target: {self.target}\")\n",
        "\n",
        "        prompt = template.format(**{k: kwargs[k] for k in input_vars})\n",
        "        return prompt, input_vars\n",
        "\n",
        "    def __call__(self, **kwargs):\n",
        "        prompt, input_vars = self._get_prompt_and_inputs(**kwargs)\n",
        "        messages = [\n",
        "            {\"role\": \"system\", \"content\": prompt}\n",
        "        ]\n",
        "        response = self.llm.invoke(messages)\n",
        "        # 응답에서 yes/no만 추출\n",
        "        # answer = response.strip().replace('\"', '').replace(\"'\", \"\").lower()\n",
        "        # if answer not in [\"yes\", \"no\"]:\n",
        "        #     # 혹시라도 모델이 다른 텍스트를 내보내면 yes/no가 포함된 부분만 추출\n",
        "        #     import re\n",
        "        #     match = re.search(r'\\b(yes|no)\\b', answer)\n",
        "        #     if match:\n",
        "        #         answer = match.group(1)\n",
        "        #     else:\n",
        "        #         raise ValueError(f\"Invalid response: {response}\")\n",
        "\n",
        "        # # Pydantic 모델 매핑\n",
        "        # if self.target == \"retrieval-answer\":\n",
        "        #     return GroundnessAnswerRetrievalScore(score=answer)\n",
        "        # elif self.target == \"question-answer\":\n",
        "        #     return GroundnessQuestionScore(score=answer)\n",
        "        # elif self.target == \"question-retrieval\":\n",
        "        #     return GroundnessQuestionRetrievalScore(score=answer)\n",
        "        return response"
      ]
    },
    {
      "cell_type": "code",
      "execution_count": 201,
      "metadata": {},
      "outputs": [
        {
          "data": {
            "text/plain": [
              "[{'role': 'system',\n",
              "  'content': '\\n당신은 주어진 답변이 질문에 적절하게 답하고 있는지 평가하는 평가자입니다.\\n아래는 질문입니다:\\n미국의 수도는 어디인가요?\\n아래는 답변입니다:\\n서울은 대한민국의 수도입니다\\n답변이 질문에 직접적으로 답하고 있고 관련 정보가 포함되어 있다면 \\'관련 있음\\'으로 평가하세요.\\n답변이 질문에 답하지 않거나 무관하다면 \\'관련 없음\\'으로 평가하세요.\\n엄격하게 평가하세요. 명확히 관련 있을 때만 \\'yes\\'로 답하세요.\\n\\n예시:\\n질문: \"프랑스의 수도는 어디인가요?\"\\n답변: \"프랑스의 수도는 파리입니다.\"\\n점수: yes\\n\\n질문: \"프랑스의 수도는 어디인가요?\"\\n답변: \"프랑스는 유럽의 국가입니다.\"\\n점수: no\\n\\n질문: \"프랑스의 수도는 어디인가요?\"\\n답변: \"독일의 수도는 베를린입니다.\"\\n점수: no\\n\\n반드시 \\'yes\\' 또는 \\'no\\'만 단독으로 답변하세요.\\n'}]"
            ]
          },
          "execution_count": 201,
          "metadata": {},
          "output_type": "execute_result"
        }
      ],
      "source": [
        "gc(question='미국의 수도는 어디인가요?', answer='서울은 대한민국의 수도입니다')"
      ]
    },
    {
      "cell_type": "code",
      "execution_count": 197,
      "metadata": {},
      "outputs": [],
      "source": [
        "llm = ChatClovaX(model='HCX-003')"
      ]
    },
    {
      "cell_type": "code",
      "execution_count": 198,
      "metadata": {},
      "outputs": [],
      "source": [
        "gc = GroundednessCheckerClovaX(llm, target='question-answer')"
      ]
    },
    {
      "cell_type": "code",
      "execution_count": 192,
      "metadata": {},
      "outputs": [
        {
          "ename": "AttributeError",
          "evalue": "'list' object has no attribute 'strip'",
          "output_type": "error",
          "traceback": [
            "\u001b[1;31m---------------------------------------------------------------------------\u001b[0m",
            "\u001b[1;31mAttributeError\u001b[0m                            Traceback (most recent call last)",
            "\u001b[1;32m<ipython-input-192-2e345c0705e2>\u001b[0m in \u001b[0;36m<module>\u001b[1;34m\u001b[0m\n\u001b[1;32m----> 1\u001b[1;33m \u001b[0mgc\u001b[0m\u001b[1;33m(\u001b[0m\u001b[0mquestion\u001b[0m\u001b[1;33m=\u001b[0m\u001b[1;34m'미국의 수도는 어디인가요?'\u001b[0m\u001b[1;33m,\u001b[0m \u001b[0manswer\u001b[0m\u001b[1;33m=\u001b[0m\u001b[1;34m'서울은 대한민국의 수도입니다'\u001b[0m\u001b[1;33m)\u001b[0m\u001b[1;33m\u001b[0m\u001b[1;33m\u001b[0m\u001b[0m\n\u001b[0m",
            "\u001b[1;32m<ipython-input-188-3bbe9dbfcda3>\u001b[0m in \u001b[0;36m__call__\u001b[1;34m(self, **kwargs)\u001b[0m\n\u001b[0;32m    102\u001b[0m         \u001b[0mresponse\u001b[0m \u001b[1;33m=\u001b[0m \u001b[0mself\u001b[0m\u001b[1;33m.\u001b[0m\u001b[0mllm\u001b[0m\u001b[1;33m.\u001b[0m\u001b[0minvoke\u001b[0m\u001b[1;33m(\u001b[0m\u001b[0mmessages\u001b[0m\u001b[1;33m)\u001b[0m\u001b[1;33m\u001b[0m\u001b[1;33m\u001b[0m\u001b[0m\n\u001b[0;32m    103\u001b[0m         \u001b[1;31m# 응답에서 yes/no만 추출\u001b[0m\u001b[1;33m\u001b[0m\u001b[1;33m\u001b[0m\u001b[0m\n\u001b[1;32m--> 104\u001b[1;33m         \u001b[0manswer\u001b[0m \u001b[1;33m=\u001b[0m \u001b[0mresponse\u001b[0m\u001b[1;33m.\u001b[0m\u001b[0mstrip\u001b[0m\u001b[1;33m(\u001b[0m\u001b[1;33m)\u001b[0m\u001b[1;33m.\u001b[0m\u001b[0mreplace\u001b[0m\u001b[1;33m(\u001b[0m\u001b[1;34m'\"'\u001b[0m\u001b[1;33m,\u001b[0m \u001b[1;34m''\u001b[0m\u001b[1;33m)\u001b[0m\u001b[1;33m.\u001b[0m\u001b[0mreplace\u001b[0m\u001b[1;33m(\u001b[0m\u001b[1;34m\"'\"\u001b[0m\u001b[1;33m,\u001b[0m \u001b[1;34m\"\"\u001b[0m\u001b[1;33m)\u001b[0m\u001b[1;33m.\u001b[0m\u001b[0mlower\u001b[0m\u001b[1;33m(\u001b[0m\u001b[1;33m)\u001b[0m\u001b[1;33m\u001b[0m\u001b[1;33m\u001b[0m\u001b[0m\n\u001b[0m\u001b[0;32m    105\u001b[0m         \u001b[1;32mif\u001b[0m \u001b[0manswer\u001b[0m \u001b[1;32mnot\u001b[0m \u001b[1;32min\u001b[0m \u001b[1;33m[\u001b[0m\u001b[1;34m\"yes\"\u001b[0m\u001b[1;33m,\u001b[0m \u001b[1;34m\"no\"\u001b[0m\u001b[1;33m]\u001b[0m\u001b[1;33m:\u001b[0m\u001b[1;33m\u001b[0m\u001b[1;33m\u001b[0m\u001b[0m\n\u001b[0;32m    106\u001b[0m             \u001b[1;31m# 혹시라도 모델이 다른 텍스트를 내보내면 yes/no가 포함된 부분만 추출\u001b[0m\u001b[1;33m\u001b[0m\u001b[1;33m\u001b[0m\u001b[0m\n",
            "\u001b[1;31mAttributeError\u001b[0m: 'list' object has no attribute 'strip'"
          ]
        }
      ],
      "source": [
        "gc(question='미국의 수도는 어디인가요?', answer='서울은 대한민국의 수도입니다')"
      ]
    },
    {
      "cell_type": "code",
      "execution_count": 246,
      "metadata": {},
      "outputs": [],
      "source": [
        "class GroundednessCheckerClovaX:\n",
        "    \"\"\"\n",
        "    HyperCLOVA X 기반의 정확성 평가기 (OpenAI 버전과 동일한 구조)\n",
        "    \"\"\"\n",
        "\n",
        "    def __init__(self, llm, target=\"retrieval-answer\"):\n",
        "        self.llm = llm\n",
        "        self.target = target\n",
        "\n",
        "    def create(self):\n",
        "        # 프롬프트 선택\n",
        "        if self.target == \"retrieval-answer\":\n",
        "            template = \"\"\"당신은 검색된 문서가 사용자 답변과 얼마나 관련이 있는지 평가하는 평가자입니다.\n",
        "아래는 검색된 문서입니다:\n",
        "{context}\n",
        "아래는 답변입니다:\n",
        "{answer}\n",
        "문서에 답변과 관련된 키워드나 의미가 명확하게 포함되어 있다면 '관련 있음'으로 평가하세요.\n",
        "문서에 답변과 관련된 정보가 전혀 없다면 '관련 없음'으로 평가하세요.\n",
        "엄격하게 평가하세요. 명확히 관련 있을 때만 'yes'로 답하세요.\n",
        "\n",
        "예시:\n",
        "문서: \"애플은 미국의 대표적인 IT 기업입니다.\"\n",
        "답변: \"애플은 미국 회사입니다.\"\n",
        "점수: yes\n",
        "\n",
        "문서: \"삼성전자는 반도체 시장에서 큰 비중을 차지합니다.\"\n",
        "답변: \"애플은 미국 회사입니다.\"\n",
        "점수: no\n",
        "\n",
        "반드시 'yes' 또는 'no'만 단독으로 답변하세요.\n",
        "\"\"\"\n",
        "            input_vars = [\"context\", \"answer\"]\n",
        "\n",
        "        elif self.target == \"question-answer\":\n",
        "            template = \"\"\"당신은 주어진 답변이 질문에 적절하게 답하고 있는지 평가하는 평가자입니다.\n",
        "아래는 질문입니다:\n",
        "{question}\n",
        "아래는 답변입니다:\n",
        "{answer}\n",
        "답변이 질문에 직접적으로 답하고 있고 관련 정보가 포함되어 있다면 '관련 있음'으로 평가하세요.\n",
        "답변이 질문에 답하지 않거나 무관하다면 '관련 없음'으로 평가하세요.\n",
        "엄격하게 평가하세요. 명확히 관련 있을 때만 'yes'로 답하세요.\n",
        "\n",
        "예시:\n",
        "질문: \"프랑스의 수도는 어디인가요?\"\n",
        "답변: \"프랑스의 수도는 파리입니다.\"\n",
        "점수: yes\n",
        "\n",
        "질문: \"프랑스의 수도는 어디인가요?\"\n",
        "답변: \"프랑스는 유럽의 국가입니다.\"\n",
        "점수: no\n",
        "\n",
        "질문: \"프랑스의 수도는 어디인가요?\"\n",
        "답변: \"독일의 수도는 베를린입니다.\"\n",
        "점수: no\n",
        "\n",
        "반드시 'yes' 또는 'no'만 단독으로 답변하세요.\n",
        "\"\"\"\n",
        "            input_vars = [\"question\", \"answer\"]\n",
        "\n",
        "        elif self.target == \"question-retrieval\":\n",
        "            template = \"\"\"당신은 검색된 문서가 주어진 질문에 답하는 데 도움이 되는지 평가하는 평가자입니다.\n",
        "아래는 질문입니다:\n",
        "{question}\n",
        "아래는 검색된 문서입니다:\n",
        "{context}\n",
        "문서에 질문에 답하는 데 도움이 되는 정보가 명확하게 포함되어 있다면 '관련 있음'으로 평가하세요.\n",
        "문서에 질문에 도움이 되는 정보가 전혀 없다면 '관련 없음'으로 평가하세요.\n",
        "엄격하게 평가하세요. 명확히 관련 있을 때만 'yes'로 답하세요.\n",
        "\n",
        "예시:\n",
        "질문: \"프랑스의 수도는 어디인가요?\"\n",
        "문서: \"파리는 프랑스의 수도입니다.\"\n",
        "점수: yes\n",
        "\n",
        "질문: \"프랑스의 수도는 어디인가요?\"\n",
        "문서: \"프랑스는 유럽의 국가입니다.\"\n",
        "점수: no\n",
        "\n",
        "질문: \"프랑스의 수도는 어디인가요?\"\n",
        "문서: \"베를린은 독일의 수도입니다.\"\n",
        "점수: no\n",
        "\n",
        "반드시 'yes' 또는 'no'만 단독으로 답변하세요.\n",
        "\"\"\"\n",
        "            input_vars = [\"question\", \"context\"]\n",
        "\n",
        "        else:\n",
        "            raise ValueError(f\"Invalid target: {self.target}\")\n",
        "\n",
        "        def chain_func(**kwargs):\n",
        "            prompt = template.format(**{k: kwargs[k] for k in input_vars})\n",
        "            messages = [\n",
        "                {\"role\": \"system\", \"content\": prompt}\n",
        "            ]\n",
        "            print(messages)\n",
        "            response = self.llm.invoke(messages)\n",
        "            print(response)\n",
        "            # 응답에서 yes/no만 추출\n",
        "            answer = response.content.strip().replace('\"', '').replace(\"'\", \"\").lower()\n",
        "            if answer not in [\"yes\", \"no\"]:\n",
        "                import re\n",
        "                match = re.search(r'\\b(yes|no)\\b', answer)\n",
        "                if match:\n",
        "                    answer = match.group(1)\n",
        "                else:\n",
        "                    raise ValueError(f\"Invalid response: {response}\")\n",
        "\n",
        "            # Pydantic 모델 매핑\n",
        "            if self.target == \"retrieval-answer\":\n",
        "                return GroundnessAnswerRetrievalScore(score=answer)\n",
        "            elif self.target == \"question-answer\":\n",
        "                return GroundnessQuestionScore(score=answer)\n",
        "            elif self.target == \"question-retrieval\":\n",
        "                return GroundnessQuestionRetrievalScore(score=answer)\n",
        "\n",
        "        return chain_func"
      ]
    },
    {
      "cell_type": "code",
      "execution_count": 247,
      "metadata": {},
      "outputs": [],
      "source": [
        "gc = GroundednessCheckerClovaX(llm=llm, target='question-answer').create()"
      ]
    },
    {
      "cell_type": "code",
      "execution_count": 241,
      "metadata": {},
      "outputs": [],
      "source": [
        "from langchain_naver import ChatClovaX\n",
        "\n",
        "llm = ChatClovaX(model='HCX-005', temperature=0)"
      ]
    },
    {
      "cell_type": "code",
      "execution_count": 236,
      "metadata": {},
      "outputs": [
        {
          "data": {
            "text/plain": [
              "AIMessage(content='안녕하세요! 저는 CLOVA X입니다.\\n\\n궁금하신 부분이나 도움이 필요하신 일이 있으시다면 말씀해 주세요. 제가 알고 있는 지식과 능력으로 최대한 도움을 드리겠습니다.\\n\\n좋은 하루 보내세요!', additional_kwargs={'refusal': None}, response_metadata={'token_usage': {'completion_tokens': 43, 'prompt_tokens': 6, 'total_tokens': 49, 'completion_tokens_details': None, 'prompt_tokens_details': None}, 'model_name': 'HCX-005', 'system_fingerprint': None, 'id': '3d88fca92dd84bc8998f7e1a139dad03', 'service_tier': None, 'finish_reason': 'stop', 'logprobs': None}, id='run--50af2c54-54bf-44fc-8581-2d9389ad4a6d-0', usage_metadata={'input_tokens': 6, 'output_tokens': 43, 'total_tokens': 49, 'input_token_details': {}, 'output_token_details': {}})"
            ]
          },
          "execution_count": 236,
          "metadata": {},
          "output_type": "execute_result"
        }
      ],
      "source": [
        "llm.invoke('hi')"
      ]
    },
    {
      "cell_type": "code",
      "execution_count": 237,
      "metadata": {},
      "outputs": [
        {
          "data": {
            "text/plain": [
              "AIMessage(content='no', additional_kwargs={'refusal': None}, response_metadata={'token_usage': {'completion_tokens': 2, 'prompt_tokens': 216, 'total_tokens': 218, 'completion_tokens_details': None, 'prompt_tokens_details': None}, 'model_name': 'HCX-005', 'system_fingerprint': None, 'id': 'e3629b1c3a1d4a459e649733fd4ae4ac', 'service_tier': None, 'finish_reason': 'stop', 'logprobs': None}, id='run--16a73ea9-8fb1-41d4-a90d-36a4a9211422-0', usage_metadata={'input_tokens': 216, 'output_tokens': 2, 'total_tokens': 218, 'input_token_details': {}, 'output_token_details': {}})"
            ]
          },
          "execution_count": 237,
          "metadata": {},
          "output_type": "execute_result"
        }
      ],
      "source": [
        "llm.invoke([{'role': 'system', 'content': '당신은 주어진 답변이 질문에 적절하게 답하고 있는지 평가하는 평가자입니다.\\n아래는 질문입니다:\\n미국의 수도는 어디인가요?\\n아래는 답변입니다:\\n서울은 대한민국의 수도입니다\\n답변이 질문에 직접적으로 답하고 있고 관련 정보가 포함되어 있다면 \\'관련 있음\\'으로 평가하세요.\\n답변이 질문에 답하지 않거나 무관하다면 \\'관련 없음\\'으로 평가하세요.\\n엄격하게 평가하세요. 명확히 관련 있을 때만 \\'yes\\'로 답하세요.\\n\\n예시:\\n질문: \"프랑스의 수도는 어디인가요?\"\\n답변: \"프랑스의 수도는 파리입니다.\"\\n점수: yes\\n\\n질문: \"프랑스의 수도는 어디인가요?\"\\n답변: \"프랑스는 유럽의 국가입니다.\"\\n점수: no\\n\\n질문: \"프랑스의 수도는 어디인가요?\"\\n답변: \"독일의 수도는 베를린입니다.\"\\n점수: no\\n\\n반드시 \\'yes\\' 또는 \\'no\\'만 단독으로 답변하세요.\\n'}])"
      ]
    },
    {
      "cell_type": "code",
      "execution_count": 228,
      "metadata": {},
      "outputs": [
        {
          "name": "stdout",
          "output_type": "stream",
          "text": [
            "<function GroundednessCheckerClovaX.create.<locals>.chain_func at 0x00000138080C6D40>\n"
          ]
        }
      ],
      "source": [
        "print(gc)"
      ]
    },
    {
      "cell_type": "code",
      "execution_count": 248,
      "metadata": {},
      "outputs": [
        {
          "name": "stdout",
          "output_type": "stream",
          "text": [
            "[{'role': 'system', 'content': '당신은 주어진 답변이 질문에 적절하게 답하고 있는지 평가하는 평가자입니다.\\n아래는 질문입니다:\\n미국의 수도는 어디인가요?\\n아래는 답변입니다:\\n서울은 대한민국의 수도입니다\\n답변이 질문에 직접적으로 답하고 있고 관련 정보가 포함되어 있다면 \\'관련 있음\\'으로 평가하세요.\\n답변이 질문에 답하지 않거나 무관하다면 \\'관련 없음\\'으로 평가하세요.\\n엄격하게 평가하세요. 명확히 관련 있을 때만 \\'yes\\'로 답하세요.\\n\\n예시:\\n질문: \"프랑스의 수도는 어디인가요?\"\\n답변: \"프랑스의 수도는 파리입니다.\"\\n점수: yes\\n\\n질문: \"프랑스의 수도는 어디인가요?\"\\n답변: \"프랑스는 유럽의 국가입니다.\"\\n점수: no\\n\\n질문: \"프랑스의 수도는 어디인가요?\"\\n답변: \"독일의 수도는 베를린입니다.\"\\n점수: no\\n\\n반드시 \\'yes\\' 또는 \\'no\\'만 단독으로 답변하세요.\\n'}]\n",
            "content='no' additional_kwargs={'refusal': None} response_metadata={'token_usage': {'completion_tokens': 2, 'prompt_tokens': 216, 'total_tokens': 218, 'completion_tokens_details': None, 'prompt_tokens_details': None}, 'model_name': 'HCX-005', 'system_fingerprint': None, 'id': '29cc6b6cf6304347a0ca6e8d101b0181', 'service_tier': None, 'finish_reason': 'stop', 'logprobs': None} id='run--f0569120-cad4-458f-be1b-b863ccec30e6-0' usage_metadata={'input_tokens': 216, 'output_tokens': 2, 'total_tokens': 218, 'input_token_details': {}, 'output_token_details': {}}\n"
          ]
        }
      ],
      "source": [
        "messages = gc(question='미국의 수도는 어디인가요?', answer='서울은 대한민국의 수도입니다')"
      ]
    },
    {
      "cell_type": "code",
      "execution_count": 249,
      "metadata": {},
      "outputs": [
        {
          "data": {
            "text/plain": [
              "GroundnessQuestionScore(score='no')"
            ]
          },
          "execution_count": 249,
          "metadata": {},
          "output_type": "execute_result"
        }
      ],
      "source": [
        "messages"
      ]
    },
    {
      "cell_type": "code",
      "execution_count": null,
      "metadata": {},
      "outputs": [],
      "source": [
        "class GroundednessCheckerClovaX:\n",
        "    \"\"\"\n",
        "    HyperCLOVA X 기반의 정확성 평가기 (OpenAI 버전과 동일한 구조)\n",
        "    \"\"\"\n",
        "\n",
        "    def __init__(self, llm, target=\"retrieval-answer\"):\n",
        "        self.llm = llm\n",
        "        self.target = target\n",
        "\n",
        "\n",
        "    def create(self):\n",
        "        # 프롬프트 선택\n",
        "        if self.target == \"retrieval-answer\":\n",
        "            template = \"\"\"\n",
        "You are a grader assessing relevance of a retrieved document to a user question.\n",
        "Here is the retrieved document: {context}\n",
        "Here is the answer: {answer}\n",
        "If the document contains keyword(s) or semantic meaning related to the user answer, grade it as relevant.\n",
        "Return your answer as a JSON object: {{\"score\": \"yes\"}} or {{\"score\": \"no\"}}.\n",
        "답변은 반드시 위 JSON 형태로만 해.\n",
        "\"\"\"\n",
        "            input_vars = [\"context\", \"answer\"]\n",
        "        elif self.target == \"question-answer\":\n",
        "            template = \"\"\"\n",
        "You are a grader assessing whether an answer appropriately addresses the given question.\n",
        "Here is the question: {question}\n",
        "Here is the answer: {answer}\n",
        "If the answer directly addresses the question and provides relevant information, grade it as relevant.\n",
        "Consider both semantic meaning and factual accuracy in your assessment.\n",
        "Return your answer as a JSON object: {{\"score\": \"yes\"}} or {{\"score\": \"no\"}}.\n",
        "답변은 반드시 위 JSON 형태로만 해.\n",
        "\"\"\"\n",
        "            input_vars = [\"question\", \"answer\"]\n",
        "        elif self.target == \"question-retrieval\":\n",
        "            template = \"\"\"\n",
        "You are a grader assessing whether a retrieved document is relevant to the given question.\n",
        "Here is the question: {question}\n",
        "Here is the retrieved document: {context}\n",
        "If the document contains information that could help answer the question, grade it as relevant.\n",
        "Consider both semantic meaning and potential usefulness for answering the question.\n",
        "Return your answer as a JSON object: {{\"score\": \"yes\"}} or {{\"score\": \"no\"}}.\n",
        "답변은 반드시 위 JSON 형태로만 해.\n",
        "\"\"\"\n",
        "            input_vars = [\"question\", \"context\"]\n",
        "        else:\n",
        "            raise ValueError(f\"Invalid target: {self.target}\")\n",
        "\n",
        "        def chain_func(**kwargs):\n",
        "            prompt = template.format(**{k: kwargs[k] for k in input_vars})\n",
        "            messages = [\n",
        "                {\"role\": \"system\", \"content\": prompt}\n",
        "            ]\n",
        "            response = self.llm.invoke(messages)\n",
        "            # 응답에서 yes/no만 추출\n",
        "            answer = response.content.strip().replace('\"', '').replace(\"'\", \"\").lower()\n",
        "            if answer not in [\"yes\", \"no\"]:\n",
        "                import re\n",
        "                match = re.search(r'\\b(yes|no)\\b', answer)\n",
        "                if match:\n",
        "                    answer = match.group(1)\n",
        "                else:\n",
        "                    raise ValueError(f\"Invalid response: {response}\")\n",
        "\n",
        "            # Pydantic 모델 매핑\n",
        "            if self.target == \"retrieval-answer\":\n",
        "                return GroundnessAnswerRetrievalScore(score=answer)\n",
        "            elif self.target == \"question-answer\":\n",
        "                return GroundnessQuestionScore(score=answer)\n",
        "            elif self.target == \"question-retrieval\":\n",
        "                return GroundnessQuestionRetrievalScore(score=answer)\n",
        "\n",
        "        return chain_func\n"
      ]
    },
    {
      "cell_type": "code",
      "execution_count": 251,
      "metadata": {},
      "outputs": [],
      "source": [
        "gc = GroundednessCheckerClovaX(llm=llm, target='question-answer').create()"
      ]
    },
    {
      "cell_type": "code",
      "execution_count": 254,
      "metadata": {},
      "outputs": [
        {
          "name": "stdout",
          "output_type": "stream",
          "text": [
            "[{'role': 'system', 'content': '\\nYou are a grader assessing whether an answer appropriately addresses the given question.\\nHere is the question: 미국의 수도는 어디인가요?\\nHere is the answer: 미국의 수도는 워싱턴입니다\\nIf the answer directly addresses the question and provides relevant information, grade it as relevant.\\nConsider both semantic meaning and factual accuracy in your assessment.\\nReturn your answer as a JSON object: {\"score\": \"yes\"} or {\"score\": \"no\"}.\\n답변은 반드시 위 JSON 형태로만 해.\\n'}]\n",
            "content='{\"score\": \"yes\"}' additional_kwargs={'refusal': None} response_metadata={'token_usage': {'completion_tokens': 7, 'prompt_tokens': 99, 'total_tokens': 106, 'completion_tokens_details': None, 'prompt_tokens_details': None}, 'model_name': 'HCX-005', 'system_fingerprint': None, 'id': '1e79ee06ff6447fcb7493d3925c099e1', 'service_tier': None, 'finish_reason': 'stop', 'logprobs': None} id='run--b01dd22d-d4fc-4871-b684-a8e35a8f443a-0' usage_metadata={'input_tokens': 99, 'output_tokens': 7, 'total_tokens': 106, 'input_token_details': {}, 'output_token_details': {}}\n"
          ]
        },
        {
          "data": {
            "text/plain": [
              "GroundnessQuestionScore(score='yes')"
            ]
          },
          "execution_count": 254,
          "metadata": {},
          "output_type": "execute_result"
        }
      ],
      "source": [
        "gc(question='미국의 수도는 어디인가요?', answer='미국의 수도는 워싱턴입니다')"
      ]
    },
    {
      "cell_type": "code",
      "execution_count": null,
      "metadata": {},
      "outputs": [],
      "source": []
    }
  ],
  "metadata": {
    "colab": {
      "provenance": []
    },
    "kernelspec": {
      "display_name": "Python 3",
      "language": "python",
      "name": "python3"
    },
    "language_info": {
      "codemirror_mode": {
        "name": "ipython",
        "version": 3
      },
      "file_extension": ".py",
      "mimetype": "text/x-python",
      "name": "python",
      "nbconvert_exporter": "python",
      "pygments_lexer": "ipython3",
      "version": "3.11.2"
    }
  },
  "nbformat": 4,
  "nbformat_minor": 0
}
